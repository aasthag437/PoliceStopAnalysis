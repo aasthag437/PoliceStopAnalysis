{
 "cells": [
  {
   "cell_type": "markdown",
   "id": "88bb9a7d",
   "metadata": {
    "editable": true,
    "slideshow": {
     "slide_type": ""
    },
    "tags": []
   },
   "source": [
    "Before you turn this problem in, make sure everything runs as expected. First, **restart the kernel** (in the menubar, select Kernel $\\rightarrow$ Restart) and then **run all cells** (in the menubar, select Cell $\\rightarrow$ Run All).\n",
    "\n",
    "Make sure you fill in any place that says `YOUR CODE HERE` or \"YOUR ANSWER HERE\", as well as your name and collaborators below:"
   ]
  },
  {
   "cell_type": "code",
   "execution_count": 1,
   "id": "b2ca2d6f",
   "metadata": {},
   "outputs": [],
   "source": [
    "NAME = \"Aastha Gupta\"\n",
    "COLLABORATORS = \"\""
   ]
  },
  {
   "cell_type": "markdown",
   "id": "d49f1254",
   "metadata": {
    "editable": true,
    "slideshow": {
     "slide_type": ""
    },
    "tags": []
   },
   "source": [
    "---"
   ]
  },
  {
   "cell_type": "markdown",
   "id": "c1a08017",
   "metadata": {},
   "source": [
    "Before you turn this problem in, make sure everything runs as expected. First, **restart the kernel** (in the menubar, select Kernel $\\rightarrow$ Restart) and then **run all cells** (in the menubar, select Cell $\\rightarrow$ Run All).\n",
    "\n",
    "Make sure you fill in any place that says `YOUR CODE HERE` or \"YOUR ANSWER HERE\", as well as your name and collaborators below:"
   ]
  },
  {
   "cell_type": "code",
   "execution_count": 2,
   "id": "f8756ad5",
   "metadata": {
    "editable": true,
    "slideshow": {
     "slide_type": ""
    },
    "tags": []
   },
   "outputs": [],
   "source": [
    "NAME = \"\"\n",
    "COLLABORATORS = \"\""
   ]
  },
  {
   "cell_type": "markdown",
   "id": "385a1a27",
   "metadata": {
    "editable": true,
    "slideshow": {
     "slide_type": ""
    },
    "tags": []
   },
   "source": [
    "---"
   ]
  },
  {
   "cell_type": "markdown",
   "id": "b16e2b0f-5b32-4cd2-8f24-c7dba9482a1e",
   "metadata": {
    "scrolled": true,
    "slideshow": {
     "slide_type": ""
    },
    "tags": []
   },
   "source": [
    "1. Getting the Data"
   ]
  },
  {
   "cell_type": "code",
   "execution_count": 3,
   "id": "75d8366c-46b6-4ca9-b2e2-fd64613879c9",
   "metadata": {
    "editable": true,
    "slideshow": {
     "slide_type": ""
    },
    "tags": []
   },
   "outputs": [],
   "source": [
    "# Import required libraries\n",
    "import pandas as pd\n",
    "import numpy as np\n",
    "import matplotlib.pyplot as plt\n",
    "import seaborn as sns\n"
   ]
  },
  {
   "cell_type": "markdown",
   "id": "1e6a1762-4c49-490a-b5ed-aaeec985e62a",
   "metadata": {},
   "source": []
  },
  {
   "cell_type": "code",
   "execution_count": 4,
   "id": "03cfc4b5-28fe-43dd-894c-058e082b1d9c",
   "metadata": {},
   "outputs": [
    {
     "name": "stderr",
     "output_type": "stream",
     "text": [
      "/tmp/ipykernel_3215726/2605890493.py:3: DtypeWarning: Columns (9,12,13,14) have mixed types. Specify dtype option on import or set low_memory=False.\n",
      "  df = pd.read_csv(file_path)\n"
     ]
    },
    {
     "data": {
      "text/html": [
       "<div>\n",
       "<style scoped>\n",
       "    .dataframe tbody tr th:only-of-type {\n",
       "        vertical-align: middle;\n",
       "    }\n",
       "\n",
       "    .dataframe tbody tr th {\n",
       "        vertical-align: top;\n",
       "    }\n",
       "\n",
       "    .dataframe thead th {\n",
       "        text-align: right;\n",
       "    }\n",
       "</style>\n",
       "<table border=\"1\" class=\"dataframe\">\n",
       "  <thead>\n",
       "    <tr style=\"text-align: right;\">\n",
       "      <th></th>\n",
       "      <th>raw_row_number</th>\n",
       "      <th>date</th>\n",
       "      <th>time</th>\n",
       "      <th>location</th>\n",
       "      <th>lat</th>\n",
       "      <th>lng</th>\n",
       "      <th>subject_age</th>\n",
       "      <th>subject_race</th>\n",
       "      <th>subject_sex</th>\n",
       "      <th>unit</th>\n",
       "      <th>...</th>\n",
       "      <th>citation_issued</th>\n",
       "      <th>warning_issued</th>\n",
       "      <th>outcome</th>\n",
       "      <th>vehicle_color</th>\n",
       "      <th>vehicle_make</th>\n",
       "      <th>vehicle_model</th>\n",
       "      <th>vehicle_registration_state</th>\n",
       "      <th>vehicle_year</th>\n",
       "      <th>raw_race</th>\n",
       "      <th>raw_ethnicity</th>\n",
       "    </tr>\n",
       "  </thead>\n",
       "  <tbody>\n",
       "    <tr>\n",
       "      <th>0</th>\n",
       "      <td>1</td>\n",
       "      <td>2013-05-01</td>\n",
       "      <td>02:09:00</td>\n",
       "      <td>N 7TH ST &amp; YORK ST CAMDEN NEW JERSEY 08102</td>\n",
       "      <td>39.104028</td>\n",
       "      <td>-84.512616</td>\n",
       "      <td>19.0</td>\n",
       "      <td>hispanic</td>\n",
       "      <td>male</td>\n",
       "      <td>NaN</td>\n",
       "      <td>...</td>\n",
       "      <td>False</td>\n",
       "      <td>False</td>\n",
       "      <td>NaN</td>\n",
       "      <td>BLUE,DARK</td>\n",
       "      <td>MITSUBISHI</td>\n",
       "      <td>LANCER</td>\n",
       "      <td>NaN</td>\n",
       "      <td>2002.0</td>\n",
       "      <td>WHITE</td>\n",
       "      <td>Hispanic Or Latino</td>\n",
       "    </tr>\n",
       "    <tr>\n",
       "      <th>1</th>\n",
       "      <td>2</td>\n",
       "      <td>2013-05-01</td>\n",
       "      <td>03:51:00</td>\n",
       "      <td>N FRONT ST &amp; YORK ST CAMDEN NEW JERSEY 08102</td>\n",
       "      <td>39.951751</td>\n",
       "      <td>-75.124895</td>\n",
       "      <td>23.0</td>\n",
       "      <td>white</td>\n",
       "      <td>male</td>\n",
       "      <td>NaN</td>\n",
       "      <td>...</td>\n",
       "      <td>True</td>\n",
       "      <td>False</td>\n",
       "      <td>citation</td>\n",
       "      <td>MAROON</td>\n",
       "      <td>HYUNDAI</td>\n",
       "      <td>SANTA FE</td>\n",
       "      <td>NJ</td>\n",
       "      <td>2004.0</td>\n",
       "      <td>WHITE</td>\n",
       "      <td>Not Hispanic Or Latino</td>\n",
       "    </tr>\n",
       "    <tr>\n",
       "      <th>2</th>\n",
       "      <td>3</td>\n",
       "      <td>2013-05-01</td>\n",
       "      <td>04:23:00</td>\n",
       "      <td>S 17TH ST &amp; FEDERAL ST CAMDEN NEW JERSEY 08105</td>\n",
       "      <td>39.944575</td>\n",
       "      <td>-75.100156</td>\n",
       "      <td>34.0</td>\n",
       "      <td>black</td>\n",
       "      <td>female</td>\n",
       "      <td>NaN</td>\n",
       "      <td>...</td>\n",
       "      <td>False</td>\n",
       "      <td>False</td>\n",
       "      <td>NaN</td>\n",
       "      <td>BLACK</td>\n",
       "      <td>CHEVROLET</td>\n",
       "      <td>SUBURBAN</td>\n",
       "      <td>NJ</td>\n",
       "      <td>2008.0</td>\n",
       "      <td>BLACK</td>\n",
       "      <td>Not Hispanic Or Latino</td>\n",
       "    </tr>\n",
       "    <tr>\n",
       "      <th>3</th>\n",
       "      <td>4</td>\n",
       "      <td>2013-05-01</td>\n",
       "      <td>07:57:00</td>\n",
       "      <td>N 5TH ST &amp; YORK ST CAMDEN NEW JERSEY 08102</td>\n",
       "      <td>39.953857</td>\n",
       "      <td>-75.118494</td>\n",
       "      <td>37.0</td>\n",
       "      <td>hispanic</td>\n",
       "      <td>male</td>\n",
       "      <td>NaN</td>\n",
       "      <td>...</td>\n",
       "      <td>False</td>\n",
       "      <td>False</td>\n",
       "      <td>NaN</td>\n",
       "      <td>NaN</td>\n",
       "      <td>NaN</td>\n",
       "      <td>NaN</td>\n",
       "      <td>NaN</td>\n",
       "      <td>NaN</td>\n",
       "      <td>WHITE</td>\n",
       "      <td>Hispanic Or Latino</td>\n",
       "    </tr>\n",
       "    <tr>\n",
       "      <th>4</th>\n",
       "      <td>5</td>\n",
       "      <td>2013-05-01</td>\n",
       "      <td>07:58:00</td>\n",
       "      <td>N 4TH ST &amp; ERIE ST CAMDEN NEW JERSEY 08102</td>\n",
       "      <td>39.955115</td>\n",
       "      <td>-75.119466</td>\n",
       "      <td>27.0</td>\n",
       "      <td>white</td>\n",
       "      <td>male</td>\n",
       "      <td>NaN</td>\n",
       "      <td>...</td>\n",
       "      <td>True</td>\n",
       "      <td>False</td>\n",
       "      <td>citation</td>\n",
       "      <td>GRAY</td>\n",
       "      <td>HONDA</td>\n",
       "      <td>ACCORD</td>\n",
       "      <td>NJ</td>\n",
       "      <td>2000.0</td>\n",
       "      <td>WHITE</td>\n",
       "      <td>Not Hispanic Or Latino</td>\n",
       "    </tr>\n",
       "  </tbody>\n",
       "</table>\n",
       "<p>5 rows × 23 columns</p>\n",
       "</div>"
      ],
      "text/plain": [
       "  raw_row_number        date      time  \\\n",
       "0              1  2013-05-01  02:09:00   \n",
       "1              2  2013-05-01  03:51:00   \n",
       "2              3  2013-05-01  04:23:00   \n",
       "3              4  2013-05-01  07:57:00   \n",
       "4              5  2013-05-01  07:58:00   \n",
       "\n",
       "                                         location        lat        lng  \\\n",
       "0      N 7TH ST & YORK ST CAMDEN NEW JERSEY 08102  39.104028 -84.512616   \n",
       "1    N FRONT ST & YORK ST CAMDEN NEW JERSEY 08102  39.951751 -75.124895   \n",
       "2  S 17TH ST & FEDERAL ST CAMDEN NEW JERSEY 08105  39.944575 -75.100156   \n",
       "3      N 5TH ST & YORK ST CAMDEN NEW JERSEY 08102  39.953857 -75.118494   \n",
       "4      N 4TH ST & ERIE ST CAMDEN NEW JERSEY 08102  39.955115 -75.119466   \n",
       "\n",
       "   subject_age subject_race subject_sex unit  ... citation_issued  \\\n",
       "0         19.0     hispanic        male  NaN  ...           False   \n",
       "1         23.0        white        male  NaN  ...            True   \n",
       "2         34.0        black      female  NaN  ...           False   \n",
       "3         37.0     hispanic        male  NaN  ...           False   \n",
       "4         27.0        white        male  NaN  ...            True   \n",
       "\n",
       "  warning_issued   outcome vehicle_color vehicle_make vehicle_model  \\\n",
       "0          False       NaN     BLUE,DARK   MITSUBISHI        LANCER   \n",
       "1          False  citation        MAROON      HYUNDAI      SANTA FE   \n",
       "2          False       NaN         BLACK    CHEVROLET      SUBURBAN   \n",
       "3          False       NaN           NaN          NaN           NaN   \n",
       "4          False  citation          GRAY        HONDA        ACCORD   \n",
       "\n",
       "  vehicle_registration_state vehicle_year raw_race           raw_ethnicity  \n",
       "0                        NaN       2002.0    WHITE      Hispanic Or Latino  \n",
       "1                         NJ       2004.0    WHITE  Not Hispanic Or Latino  \n",
       "2                         NJ       2008.0    BLACK  Not Hispanic Or Latino  \n",
       "3                        NaN          NaN    WHITE      Hispanic Or Latino  \n",
       "4                         NJ       2000.0    WHITE  Not Hispanic Or Latino  \n",
       "\n",
       "[5 rows x 23 columns]"
      ]
     },
     "execution_count": 4,
     "metadata": {},
     "output_type": "execute_result"
    }
   ],
   "source": [
    "# Load Dataset\n",
    "file_path = \"nj_camden_2020_04_01.csv\" \n",
    "df = pd.read_csv(file_path)\n",
    "\n",
    "df.head()"
   ]
  },
  {
   "cell_type": "code",
   "execution_count": 5,
   "id": "e00f6f19-868c-4644-b4a0-92f084775d1d",
   "metadata": {},
   "outputs": [
    {
     "name": "stdout",
     "output_type": "stream",
     "text": [
      "<class 'pandas.core.frame.DataFrame'>\n",
      "RangeIndex: 195298 entries, 0 to 195297\n",
      "Data columns (total 23 columns):\n",
      " #   Column                      Non-Null Count   Dtype  \n",
      "---  ------                      --------------   -----  \n",
      " 0   raw_row_number              195298 non-null  object \n",
      " 1   date                        195100 non-null  object \n",
      " 2   time                        195101 non-null  object \n",
      " 3   location                    192747 non-null  object \n",
      " 4   lat                         191544 non-null  float64\n",
      " 5   lng                         191544 non-null  float64\n",
      " 6   subject_age                 193072 non-null  float64\n",
      " 7   subject_race                193405 non-null  object \n",
      " 8   subject_sex                 195153 non-null  object \n",
      " 9   unit                        83446 non-null   object \n",
      " 10  type                        195298 non-null  object \n",
      " 11  disposition                 195287 non-null  object \n",
      " 12  arrest_made                 195287 non-null  object \n",
      " 13  citation_issued             195287 non-null  object \n",
      " 14  warning_issued              195287 non-null  object \n",
      " 15  outcome                     92144 non-null   object \n",
      " 16  vehicle_color               139835 non-null  object \n",
      " 17  vehicle_make                140098 non-null  object \n",
      " 18  vehicle_model               138446 non-null  object \n",
      " 19  vehicle_registration_state  146051 non-null  object \n",
      " 20  vehicle_year                138115 non-null  float64\n",
      " 21  raw_race                    193139 non-null  object \n",
      " 22  raw_ethnicity               188439 non-null  object \n",
      "dtypes: float64(4), object(19)\n",
      "memory usage: 34.3+ MB\n",
      "Number of Rows: 195298\n",
      "Number of Columns: 23\n",
      "Columns: ['raw_row_number', 'date', 'time', 'location', 'lat', 'lng', 'subject_age', 'subject_race', 'subject_sex', 'unit', 'type', 'disposition', 'arrest_made', 'citation_issued', 'warning_issued', 'outcome', 'vehicle_color', 'vehicle_make', 'vehicle_model', 'vehicle_registration_state', 'vehicle_year', 'raw_race', 'raw_ethnicity']\n"
     ]
    }
   ],
   "source": [
    "df.info()\n",
    "print(\"Number of Rows:\", len(df))\n",
    "print(\"Number of Columns:\", len(df.columns))\n",
    "\n",
    "print(\"Columns:\", df.columns.tolist())"
   ]
  },
  {
   "cell_type": "markdown",
   "id": "ad271de3-6a02-4899-b4b5-e3434842aa3b",
   "metadata": {},
   "source": [
    "Data Cleaning"
   ]
  },
  {
   "cell_type": "code",
   "execution_count": null,
   "id": "d401cce6-d858-4402-9f9b-0f741ded84a1",
   "metadata": {},
   "outputs": [],
   "source": [
    "missing_values = df.isnull().sum()\n",
    "missing_percentage = (missing_values / len(df)) * 100\n",
    "missing_df = pd.DataFrame({\"Missing Values\": missing_values, \"Percentage\": missing_percentage})\n",
    "missing_df = missing_df[missing_df[\"Missing Values\"] > 0].sort_values(by=\"Percentage\", ascending=False)\n",
    "print(missing_df)\n",
    "\n",
    "plt.figure(figsize=(10, 6))\n",
    "sns.barplot(x=missing_df.index, y=missing_df[\"Percentage\"], palette=\"viridis\")\n",
    "plt.xticks(rotation=45, ha=\"right\")\n",
    "plt.title(\"Percentage of Missing Values by Column\")\n",
    "plt.ylabel(\"Percentage\")\n",
    "plt.xlabel(\"Columns\")\n",
    "plt.show()\n"
   ]
  },
  {
   "cell_type": "code",
   "execution_count": 7,
   "id": "c6f20fb9-24f9-4c9c-9bc2-9b95c327ad8c",
   "metadata": {},
   "outputs": [
    {
     "name": "stdout",
     "output_type": "stream",
     "text": [
      "Remaining missing values:\n",
      "raw_row_number                     0\n",
      "date                             194\n",
      "time                             193\n",
      "location                        2530\n",
      "lat                             3727\n",
      "lng                             3727\n",
      "subject_age                        0\n",
      "subject_race                       0\n",
      "subject_sex                       15\n",
      "unit                          110624\n",
      "type                               0\n",
      "disposition                        0\n",
      "arrest_made                        0\n",
      "citation_issued                    0\n",
      "warning_issued                     0\n",
      "outcome                       101828\n",
      "vehicle_color                  54723\n",
      "vehicle_make                   54463\n",
      "vehicle_model                  56095\n",
      "vehicle_registration_state     48421\n",
      "vehicle_year                   56424\n",
      "raw_race                         266\n",
      "raw_ethnicity                   4990\n",
      "dtype: int64\n"
     ]
    },
    {
     "name": "stderr",
     "output_type": "stream",
     "text": [
      "/tmp/ipykernel_3215726/1019759484.py:3: FutureWarning: A value is trying to be set on a copy of a DataFrame or Series through chained assignment using an inplace method.\n",
      "The behavior will change in pandas 3.0. This inplace method will never work because the intermediate object on which we are setting values always behaves as a copy.\n",
      "\n",
      "For example, when doing 'df[col].method(value, inplace=True)', try using 'df.method({col: value}, inplace=True)' or df[col] = df[col].method(value) instead, to perform the operation inplace on the original object.\n",
      "\n",
      "\n",
      "  df[\"subject_age\"].fillna(df[\"subject_age\"].median(), inplace=True)\n"
     ]
    }
   ],
   "source": [
    "# handle missing values by filling age with median age, drop rows where important columns are missing\n",
    "\n",
    "df[\"subject_age\"].fillna(df[\"subject_age\"].median(), inplace=True)\n",
    "\n",
    "df.dropna(subset=[\"subject_race\", \"arrest_made\"], inplace=True)\n",
    "\n",
    "print(\"Remaining missing values:\")\n",
    "print(df.isnull().sum())\n"
   ]
  },
  {
   "cell_type": "code",
   "execution_count": 8,
   "id": "dca35698-a6c4-48ae-9d84-596b11c75586",
   "metadata": {},
   "outputs": [
    {
     "name": "stderr",
     "output_type": "stream",
     "text": [
      "/tmp/ipykernel_3215726/47062385.py:2: UserWarning: Could not infer format, so each element will be parsed individually, falling back to `dateutil`. To ensure parsing is consistent and as-expected, please specify a format.\n",
      "  df[\"time\"] = pd.to_datetime(df[\"time\"], errors=\"coerce\")\n"
     ]
    },
    {
     "data": {
      "text/html": [
       "<div>\n",
       "<style scoped>\n",
       "    .dataframe tbody tr th:only-of-type {\n",
       "        vertical-align: middle;\n",
       "    }\n",
       "\n",
       "    .dataframe tbody tr th {\n",
       "        vertical-align: top;\n",
       "    }\n",
       "\n",
       "    .dataframe thead th {\n",
       "        text-align: right;\n",
       "    }\n",
       "</style>\n",
       "<table border=\"1\" class=\"dataframe\">\n",
       "  <thead>\n",
       "    <tr style=\"text-align: right;\">\n",
       "      <th></th>\n",
       "      <th>time</th>\n",
       "      <th>stopped_at_night</th>\n",
       "    </tr>\n",
       "  </thead>\n",
       "  <tbody>\n",
       "    <tr>\n",
       "      <th>0</th>\n",
       "      <td>2024-12-12 02:09:00</td>\n",
       "      <td>1</td>\n",
       "    </tr>\n",
       "    <tr>\n",
       "      <th>1</th>\n",
       "      <td>2024-12-12 03:51:00</td>\n",
       "      <td>1</td>\n",
       "    </tr>\n",
       "    <tr>\n",
       "      <th>2</th>\n",
       "      <td>2024-12-12 04:23:00</td>\n",
       "      <td>1</td>\n",
       "    </tr>\n",
       "    <tr>\n",
       "      <th>3</th>\n",
       "      <td>2024-12-12 07:57:00</td>\n",
       "      <td>0</td>\n",
       "    </tr>\n",
       "    <tr>\n",
       "      <th>4</th>\n",
       "      <td>2024-12-12 07:58:00</td>\n",
       "      <td>0</td>\n",
       "    </tr>\n",
       "  </tbody>\n",
       "</table>\n",
       "</div>"
      ],
      "text/plain": [
       "                 time  stopped_at_night\n",
       "0 2024-12-12 02:09:00                 1\n",
       "1 2024-12-12 03:51:00                 1\n",
       "2 2024-12-12 04:23:00                 1\n",
       "3 2024-12-12 07:57:00                 0\n",
       "4 2024-12-12 07:58:00                 0"
      ]
     },
     "execution_count": 8,
     "metadata": {},
     "output_type": "execute_result"
    }
   ],
   "source": [
    "# Create a new column `stopped_at_night` (true if stop occurred between 8 PM and 6 AM)\n",
    "df[\"time\"] = pd.to_datetime(df[\"time\"], errors=\"coerce\")\n",
    "df[\"stopped_at_night\"] = df[\"time\"].apply(lambda x: 1 if x and (x.hour < 6 or x.hour >= 20) else 0)\n",
    "\n",
    "df[[\"time\", \"stopped_at_night\"]].head()\n"
   ]
  },
  {
   "cell_type": "code",
   "execution_count": 9,
   "id": "0466ca1b-598f-46de-a412-60ef0647f56d",
   "metadata": {},
   "outputs": [
    {
     "name": "stdout",
     "output_type": "stream",
     "text": [
      "Cleaned data saved to nj_camden_cleaned.csv\n"
     ]
    }
   ],
   "source": [
    "# Save cleaned file\n",
    "cleaned_file_path = \"nj_camden_cleaned.csv\"\n",
    "df.to_csv(cleaned_file_path, index=False)\n",
    "print(f\"Cleaned data saved to {cleaned_file_path}\")"
   ]
  },
  {
   "cell_type": "markdown",
   "id": "7836bc17-8107-4b28-9b32-0ded9ece08f3",
   "metadata": {},
   "source": [
    "Data Analysis"
   ]
  },
  {
   "cell_type": "code",
   "execution_count": null,
   "id": "a6bf1439-2ca0-4089-a777-25f991aa62a2",
   "metadata": {},
   "outputs": [],
   "source": [
    "df = pd.read_csv(cleaned_file_path)\n",
    "\n",
    "# Distribution of race\n",
    "sns.countplot(x=\"subject_race\", data=df, palette=\"pastel\")\n",
    "plt.title(\"Distribution of Stops by Race\")\n",
    "plt.xlabel(\"Race\")\n",
    "plt.ylabel(\"Number of Stops\")\n",
    "plt.xticks(rotation=45)\n",
    "plt.show()\n",
    "\n",
    "# Distribution of gender\n",
    "sns.countplot(x=\"subject_sex\", data=df, palette=\"muted\")\n",
    "plt.title(\"Distribution of Stops by Gender\")\n",
    "plt.xlabel(\"Gender\")\n",
    "plt.ylabel(\"Number of Stops\")\n",
    "plt.show()\n"
   ]
  },
  {
   "cell_type": "code",
   "execution_count": null,
   "id": "5d45dbda-90c9-46d9-a793-37980e82f80d",
   "metadata": {},
   "outputs": [],
   "source": [
    "# Distribution of stop outcomes\n",
    "sns.countplot(x=\"arrest_made\", data=df, palette=\"coolwarm\")\n",
    "plt.title(\"Distribution of Arrests Made\")\n",
    "plt.xlabel(\"Arrest Made\")\n",
    "plt.ylabel(\"Number of Stops\")\n",
    "plt.xticks([0, 1], [\"No\", \"Yes\"])\n",
    "plt.show()\n",
    "\n",
    "# Analyze arrests by race\n",
    "sns.countplot(x=\"subject_race\", hue=\"arrest_made\", data=df, palette=\"coolwarm\")\n",
    "plt.title(\"Arrests by Race\")\n",
    "plt.xlabel(\"Race\")\n",
    "plt.ylabel(\"Number of Stops\")\n",
    "plt.legend(title=\"Arrest Made\", labels=[\"No\", \"Yes\"])\n",
    "plt.xticks(rotation=45)\n",
    "plt.show()\n",
    "\n",
    "# Analyze citations by race\n",
    "sns.countplot(x=\"subject_race\", hue=\"citation_issued\", data=df, palette=\"Blues\")\n",
    "plt.title(\"Citations by Race\")\n",
    "plt.xlabel(\"Race\")\n",
    "plt.ylabel(\"Number of Stops\")\n",
    "plt.legend(title=\"Citation Issued\", labels=[\"No\", \"Yes\"])\n",
    "plt.xticks(rotation=45)\n",
    "plt.show()\n"
   ]
  },
  {
   "cell_type": "code",
   "execution_count": 12,
   "id": "6b1e5f7b-eb6a-4748-ad60-5c89f1efbf48",
   "metadata": {},
   "outputs": [
    {
     "data": {
      "image/png": "[encoded data removed]",
      "text/plain": [
       "<Figure size 640x480 with 1 Axes>"
      ]
     },
     "metadata": {},
     "output_type": "display_data"
    },
    {
     "name": "stderr",
     "output_type": "stream",
     "text": [
      "/tmp/ipykernel_3215726/4225594215.py:11: FutureWarning: \n",
      "\n",
      "Passing `palette` without assigning `hue` is deprecated and will be removed in v0.14.0. Assign the `x` variable to `hue` and set `legend=False` for the same effect.\n",
      "\n",
      "  sns.barplot(x=night_stops.index, y=night_stops.values, palette=\"Set2\")\n"
     ]
    },
    {
     "data": {
      "image/png": "[encoded data removed]",
      "text/plain": [
       "<Figure size 640x480 with 1 Axes>"
      ]
     },
     "metadata": {},
     "output_type": "display_data"
    }
   ],
   "source": [
    "# Distribution of stops by time of day\n",
    "df[\"hour\"] = pd.to_datetime(df[\"time\"]).dt.hour\n",
    "sns.histplot(df[\"hour\"], bins=24, kde=False, color=\"orange\")\n",
    "plt.title(\"Distribution of Stops by Hour\")\n",
    "plt.xlabel(\"Hour of Day\")\n",
    "plt.ylabel(\"Number of Stops\")\n",
    "plt.show()\n",
    "\n",
    "# Analyze nighttime stops\n",
    "night_stops = df[\"stopped_at_night\"].value_counts()\n",
    "sns.barplot(x=night_stops.index, y=night_stops.values, palette=\"Set2\")\n",
    "plt.title(\"Nighttime Stops\")\n",
    "plt.xlabel(\"Stopped at Night (1 = Yes, 0 = No)\")\n",
    "plt.ylabel(\"Number of Stops\")\n",
    "plt.xticks([0, 1], [\"No\", \"Yes\"])\n",
    "plt.show()\n"
   ]
  },
  {
   "cell_type": "code",
   "execution_count": 13,
   "id": "30c92e88-d3a7-4950-9324-7f7ba844c8a2",
   "metadata": {},
   "outputs": [
    {
     "name": "stderr",
     "output_type": "stream",
     "text": [
      "/tmp/ipykernel_3215726/635145588.py:3: FutureWarning: \n",
      "\n",
      "Passing `palette` without assigning `hue` is deprecated and will be removed in v0.14.0. Assign the `y` variable to `hue` and set `legend=False` for the same effect.\n",
      "\n",
      "  sns.barplot(x=top_makes.values, y=top_makes.index, palette=\"viridis\")\n"
     ]
    },
    {
     "data": {
      "image/png": "[encoded data removed]",
      "text/plain": [
       "<Figure size 640x480 with 1 Axes>"
      ]
     },
     "metadata": {},
     "output_type": "display_data"
    }
   ],
   "source": [
    "# Top 10 most common vehicle makes\n",
    "top_makes = df[\"vehicle_make\"].value_counts().head(10)\n",
    "sns.barplot(x=top_makes.values, y=top_makes.index, palette=\"viridis\")\n",
    "plt.title(\"Top 10 Vehicle Makes Stopped by Police\")\n",
    "plt.xlabel(\"Number of Stops\")\n",
    "plt.ylabel(\"Vehicle Make\")\n",
    "plt.show()\n"
   ]
  },
  {
   "cell_type": "code",
   "execution_count": 14,
   "id": "a0622e67-c242-4f38-b893-5425bd336f84",
   "metadata": {},
   "outputs": [
    {
     "name": "stderr",
     "output_type": "stream",
     "text": [
      "/tmp/ipykernel_3215726/1444027379.py:3: FutureWarning: \n",
      "\n",
      "Passing `palette` without assigning `hue` is deprecated and will be removed in v0.14.0. Assign the `y` variable to `hue` and set `legend=False` for the same effect.\n",
      "\n",
      "  sns.barplot(x=arrests_by_color.values, y=arrests_by_color.index, palette=\"cubehelix\")\n"
     ]
    },
    {
     "data": {
      "image/png": "[encoded data removed]",
      "text/plain": [
       "<Figure size 640x480 with 1 Axes>"
      ]
     },
     "metadata": {},
     "output_type": "display_data"
    }
   ],
   "source": [
    "# Analyze vehicle colors associated with arrests\n",
    "arrests_by_color = df[df[\"arrest_made\"] == 1][\"vehicle_color\"].value_counts().head(10)\n",
    "sns.barplot(x=arrests_by_color.values, y=arrests_by_color.index, palette=\"cubehelix\")\n",
    "plt.title(\"Top 10 Vehicle Colors Associated with Arrests\")\n",
    "plt.xlabel(\"Number of Arrests\")\n",
    "plt.ylabel(\"Vehicle Color\")\n",
    "plt.show()\n"
   ]
  },
  {
   "cell_type": "markdown",
   "id": "bf510786-3a29-455a-a3cf-b7a1749da121",
   "metadata": {},
   "source": [
    "Database Integration"
   ]
  },
  {
   "cell_type": "code",
   "execution_count": 15,
   "id": "fc05a1f5-255e-4202-9e9f-6f0ac3c9aff9",
   "metadata": {},
   "outputs": [],
   "source": [
    "# Import required libraries\n",
    "import pandas as pd\n",
    "import sqlite3\n"
   ]
  },
  {
   "cell_type": "code",
   "execution_count": 16,
   "id": "b78dd57d-2f9d-4010-ad3c-a3bc05e16d7f",
   "metadata": {},
   "outputs": [
    {
     "name": "stdout",
     "output_type": "stream",
     "text": [
      "Dataset stored at police_stops_analysis.db\n"
     ]
    }
   ],
   "source": [
    "# Create database and store\n",
    "db_path = \"police_stops_analysis.db\"  \n",
    "conn = sqlite3.connect(db_path)\n",
    "\n",
    "df.to_sql(\"police_stops\", conn, if_exists=\"replace\", index=False)\n",
    "print(f\"Dataset stored at {db_path}\")\n"
   ]
  },
  {
   "cell_type": "code",
   "execution_count": 17,
   "id": "e8573240-5523-4424-bc3e-77f4ff594510",
   "metadata": {},
   "outputs": [
    {
     "name": "stdout",
     "output_type": "stream",
     "text": [
      "Tables in the database:\n",
      "           name\n",
      "0  police_stops\n",
      "Preview of the police_stops table:\n",
      "  raw_row_number        date                 time  \\\n",
      "0              1  2013-05-01  2024-12-12 02:09:00   \n",
      "1              2  2013-05-01  2024-12-12 03:51:00   \n",
      "2              3  2013-05-01  2024-12-12 04:23:00   \n",
      "3              4  2013-05-01  2024-12-12 07:57:00   \n",
      "4              5  2013-05-01  2024-12-12 07:58:00   \n",
      "\n",
      "                                         location        lat        lng  \\\n",
      "0      N 7TH ST & YORK ST CAMDEN NEW JERSEY 08102  39.104028 -84.512616   \n",
      "1    N FRONT ST & YORK ST CAMDEN NEW JERSEY 08102  39.951751 -75.124895   \n",
      "2  S 17TH ST & FEDERAL ST CAMDEN NEW JERSEY 08105  39.944575 -75.100156   \n",
      "3      N 5TH ST & YORK ST CAMDEN NEW JERSEY 08102  39.953857 -75.118494   \n",
      "4      N 4TH ST & ERIE ST CAMDEN NEW JERSEY 08102  39.955115 -75.119466   \n",
      "\n",
      "   subject_age subject_race subject_sex  unit  ...   outcome vehicle_color  \\\n",
      "0         19.0     hispanic        male  None  ...      None     BLUE,DARK   \n",
      "1         23.0        white        male  None  ...  citation        MAROON   \n",
      "2         34.0        black      female  None  ...      None         BLACK   \n",
      "3         37.0     hispanic        male  None  ...      None          None   \n",
      "4         27.0        white        male  None  ...  citation          GRAY   \n",
      "\n",
      "   vehicle_make  vehicle_model  vehicle_registration_state vehicle_year  \\\n",
      "0    MITSUBISHI         LANCER                        None       2002.0   \n",
      "1       HYUNDAI       SANTA FE                          NJ       2004.0   \n",
      "2     CHEVROLET       SUBURBAN                          NJ       2008.0   \n",
      "3          None           None                        None          NaN   \n",
      "4         HONDA         ACCORD                          NJ       2000.0   \n",
      "\n",
      "  raw_race           raw_ethnicity stopped_at_night hour  \n",
      "0    WHITE      Hispanic Or Latino                1  2.0  \n",
      "1    WHITE  Not Hispanic Or Latino                1  3.0  \n",
      "2    BLACK  Not Hispanic Or Latino                1  4.0  \n",
      "3    WHITE      Hispanic Or Latino                0  7.0  \n",
      "4    WHITE  Not Hispanic Or Latino                0  7.0  \n",
      "\n",
      "[5 rows x 25 columns]\n"
     ]
    }
   ],
   "source": [
    "tables = pd.read_sql(\"SELECT name FROM sqlite_master WHERE type='table';\", conn)\n",
    "print(\"Tables in the database:\")\n",
    "print(tables)\n",
    "\n",
    "query = \"SELECT * FROM police_stops LIMIT 5;\"\n",
    "preview = pd.read_sql(query, conn)\n",
    "print(\"Preview of the police_stops table:\")\n",
    "print(preview)\n"
   ]
  },
  {
   "cell_type": "code",
   "execution_count": 18,
   "id": "8c4cba59-cf6c-4052-890f-0f72a3209934",
   "metadata": {},
   "outputs": [
    {
     "name": "stdout",
     "output_type": "stream",
     "text": [
      "Stops by Race:\n",
      "             subject_race  stop_count\n",
      "0                   black       89979\n",
      "1                hispanic       65456\n",
      "2                   white       36068\n",
      "3  asian/pacific islander        1478\n",
      "4                   other         364\n",
      "5                 unknown          49\n"
     ]
    }
   ],
   "source": [
    "# Count stops by subject race\n",
    "query = \"\"\"\n",
    "SELECT subject_race, COUNT(*) as stop_count\n",
    "FROM police_stops\n",
    "GROUP BY subject_race\n",
    "ORDER BY stop_count DESC;\n",
    "\"\"\"\n",
    "stops_by_race = pd.read_sql(query, conn)\n",
    "print(\"Stops by Race:\")\n",
    "print(stops_by_race)\n"
   ]
  },
  {
   "cell_type": "code",
   "execution_count": 19,
   "id": "1417e671-ad0c-4f32-827d-9ecd053e14f7",
   "metadata": {},
   "outputs": [
    {
     "name": "stdout",
     "output_type": "stream",
     "text": [
      "Arrest Rates by Race:\n",
      "             subject_race  arrests  total_stops  arrest_rate\n",
      "0                   white      438        36068     0.012144\n",
      "1                   black      735        89979     0.008169\n",
      "2                hispanic      328        65456     0.005011\n",
      "3  asian/pacific islander        7         1478     0.004736\n",
      "4                 unknown        0           49     0.000000\n",
      "5                   other        0          364     0.000000\n"
     ]
    }
   ],
   "source": [
    "# Calculate the arrest rate for each race\n",
    "query = \"\"\"\n",
    "SELECT subject_race,\n",
    "       SUM(CASE WHEN arrest_made = 1 THEN 1 ELSE 0 END) as arrests,\n",
    "       COUNT(*) as total_stops,\n",
    "       (SUM(CASE WHEN arrest_made = 1 THEN 1 ELSE 0 END) * 1.0 / COUNT(*)) as arrest_rate\n",
    "FROM police_stops\n",
    "GROUP BY subject_race\n",
    "ORDER BY arrest_rate DESC;\n",
    "\"\"\"\n",
    "arrest_rates = pd.read_sql(query, conn)\n",
    "print(\"Arrest Rates by Race:\")\n",
    "print(arrest_rates)\n"
   ]
  },
  {
   "cell_type": "code",
   "execution_count": 20,
   "id": "b244eabf-7272-45e1-8eb2-f40e7c9731f4",
   "metadata": {},
   "outputs": [
    {
     "name": "stdout",
     "output_type": "stream",
     "text": [
      "Stops During Nighttime:\n",
      "   stopped_at_night  stop_count\n",
      "0                 0      123752\n",
      "1                 1       69642\n"
     ]
    }
   ],
   "source": [
    "# Count stops occurring at night\n",
    "query = \"\"\"\n",
    "SELECT stopped_at_night, COUNT(*) as stop_count\n",
    "FROM police_stops\n",
    "GROUP BY stopped_at_night;\n",
    "\"\"\"\n",
    "night_stops = pd.read_sql(query, conn)\n",
    "print(\"Stops During Nighttime:\")\n",
    "print(night_stops)\n"
   ]
  },
  {
   "cell_type": "code",
   "execution_count": 21,
   "id": "74e2417a-cc00-4ac5-83fa-18516ea61783",
   "metadata": {},
   "outputs": [
    {
     "name": "stdout",
     "output_type": "stream",
     "text": [
      "Top Vehicle Makes Associated with Arrests:\n",
      "  vehicle_make  arrests  total_stops  arrest_rate\n",
      "0    CHEVROLET      106        17526     0.006048\n",
      "1         FORD       92        10729     0.008575\n",
      "2        HONDA       70        17412     0.004020\n",
      "3        DODGE       54         9110     0.005928\n",
      "4       NISSAN       48        12177     0.003942\n",
      "5       TOYOTA       38         9632     0.003945\n",
      "6        BUICK       38         5194     0.007316\n",
      "7      MERCURY       32         3143     0.010181\n",
      "8     CHRYSLER       21         4684     0.004483\n",
      "9      HYUNDAI       19         4750     0.004000\n"
     ]
    }
   ],
   "source": [
    "# Vehicle makes with the highest number of arrests\n",
    "query = \"\"\"\n",
    "SELECT vehicle_make,\n",
    "       SUM(CASE WHEN arrest_made = 1 THEN 1 ELSE 0 END) as arrests,\n",
    "       COUNT(*) as total_stops,\n",
    "       (SUM(CASE WHEN arrest_made = 1 THEN 1 ELSE 0 END) * 1.0 / COUNT(*)) as arrest_rate\n",
    "FROM police_stops\n",
    "WHERE vehicle_make IS NOT NULL\n",
    "GROUP BY vehicle_make\n",
    "ORDER BY arrests DESC\n",
    "LIMIT 10;\n",
    "\"\"\"\n",
    "vehicle_arrests = pd.read_sql(query, conn)\n",
    "print(\"Top Vehicle Makes Associated with Arrests:\")\n",
    "print(vehicle_arrests)\n"
   ]
  },
  {
   "cell_type": "code",
   "execution_count": 22,
   "id": "b45e4cd3-ef1e-4062-a2cc-c1b1baf76dff",
   "metadata": {},
   "outputs": [
    {
     "name": "stdout",
     "output_type": "stream",
     "text": [
      "Top Locations for Police Stops (Rounded Coordinates):\n",
      "   rounded_lat  rounded_lng  stop_count\n",
      "0       40.058      -74.406       26623\n",
      "1       39.918      -75.114        3323\n",
      "2       39.956      -75.117        3113\n",
      "3       39.925      -75.107        2973\n",
      "4       39.932      -75.119        2134\n",
      "5       39.110      -84.538        1963\n",
      "6       39.916      -75.102        1689\n",
      "7       39.109      -84.518        1597\n",
      "8       39.936      -75.119        1558\n",
      "9       39.931      -75.102        1547\n"
     ]
    }
   ],
   "source": [
    "# Analyze stops by latitude and longitude\n",
    "query = \"\"\"\n",
    "SELECT ROUND(lat, 3) as rounded_lat, ROUND(lng, 3) as rounded_lng, COUNT(*) as stop_count\n",
    "FROM police_stops\n",
    "WHERE lat IS NOT NULL AND lng IS NOT NULL\n",
    "GROUP BY rounded_lat, rounded_lng\n",
    "ORDER BY stop_count DESC\n",
    "LIMIT 10;\n",
    "\"\"\"\n",
    "geo_stops = pd.read_sql(query, conn)\n",
    "print(\"Top Locations for Police Stops (Rounded Coordinates):\")\n",
    "print(geo_stops)\n"
   ]
  },
  {
   "cell_type": "code",
   "execution_count": 23,
   "id": "11ba01b5-066b-439a-bd4c-9ad9a15fb76e",
   "metadata": {},
   "outputs": [],
   "source": [
    "conn.close()\n"
   ]
  },
  {
   "cell_type": "markdown",
   "id": "aa6e4cc0-19fe-4b6c-9723-cc598d7e875d",
   "metadata": {},
   "source": [
    "ML model training"
   ]
  },
  {
   "cell_type": "code",
   "execution_count": 24,
   "id": "5e21e10b-4dcf-4ecb-bc78-e6b075391437",
   "metadata": {},
   "outputs": [],
   "source": [
    "from sklearn.model_selection import train_test_split\n",
    "from sklearn.ensemble import RandomForestClassifier\n",
    "from sklearn.metrics import classification_report, confusion_matrix, accuracy_score\n",
    "import matplotlib.pyplot as plt\n",
    "import seaborn as sns\n"
   ]
  },
  {
   "cell_type": "code",
   "execution_count": 25,
   "id": "0783f126-4b8e-4c2d-b81f-83007dc3c3dc",
   "metadata": {},
   "outputs": [
    {
     "name": "stdout",
     "output_type": "stream",
     "text": [
      "Training set size: (154715, 3)\n",
      "Testing set size: (38679, 3)\n"
     ]
    },
    {
     "name": "stderr",
     "output_type": "stream",
     "text": [
      "/tmp/ipykernel_3215726/2195514051.py:3: DtypeWarning: Columns (9) have mixed types. Specify dtype option on import or set low_memory=False.\n",
      "  df = pd.read_csv(cleaned_file_path)\n"
     ]
    }
   ],
   "source": [
    "# Preprocessing\n",
    "cleaned_file_path = \"nj_camden_cleaned.csv\"  \n",
    "df = pd.read_csv(cleaned_file_path)\n",
    "\n",
    "X = df[[\"subject_age\", \"stopped_at_night\", \"vehicle_year\"]]\n",
    "X = pd.get_dummies(X, drop_first=True)  \n",
    "\n",
    "# Target variable: whether an arrest was made\n",
    "y = df[\"arrest_made\"]\n",
    "\n",
    "X_train, X_test, y_train, y_test = train_test_split(X, y, test_size=0.2, random_state=42)\n",
    "\n",
    "print(\"Training set size:\", X_train.shape)\n",
    "print(\"Testing set size:\", X_test.shape)\n"
   ]
  },
  {
   "cell_type": "code",
   "execution_count": 26,
   "id": "ca20a475-df02-4f45-a241-7a47037e5eb5",
   "metadata": {},
   "outputs": [
    {
     "name": "stdout",
     "output_type": "stream",
     "text": [
      "Model training complete.\n"
     ]
    }
   ],
   "source": [
    "# Train a Random Forest Classifier\n",
    "rf_model = RandomForestClassifier(n_estimators=100, random_state=42)\n",
    "rf_model.fit(X_train, y_train)\n",
    "\n",
    "print(\"Model training complete.\")\n"
   ]
  },
  {
   "cell_type": "code",
   "execution_count": 27,
   "id": "de14a77b-9839-4baf-b3f7-bac521c71375",
   "metadata": {},
   "outputs": [
    {
     "name": "stdout",
     "output_type": "stream",
     "text": [
      "Classification Report:\n",
      "              precision    recall  f1-score   support\n",
      "\n",
      "       False       0.99      1.00      1.00     38384\n",
      "        True       0.00      0.00      0.00       295\n",
      "\n",
      "    accuracy                           0.99     38679\n",
      "   macro avg       0.50      0.50      0.50     38679\n",
      "weighted avg       0.98      0.99      0.99     38679\n",
      "\n",
      "Model Accuracy: 0.99\n"
     ]
    },
    {
     "name": "stderr",
     "output_type": "stream",
     "text": [
      "/usr/lib/anaconda3/lib/python3.12/site-packages/sklearn/metrics/_classification.py:1509: UndefinedMetricWarning: Precision is ill-defined and being set to 0.0 in labels with no predicted samples. Use `zero_division` parameter to control this behavior.\n",
      "  _warn_prf(average, modifier, f\"{metric.capitalize()} is\", len(result))\n",
      "/usr/lib/anaconda3/lib/python3.12/site-packages/sklearn/metrics/_classification.py:1509: UndefinedMetricWarning: Precision is ill-defined and being set to 0.0 in labels with no predicted samples. Use `zero_division` parameter to control this behavior.\n",
      "  _warn_prf(average, modifier, f\"{metric.capitalize()} is\", len(result))\n",
      "/usr/lib/anaconda3/lib/python3.12/site-packages/sklearn/metrics/_classification.py:1509: UndefinedMetricWarning: Precision is ill-defined and being set to 0.0 in labels with no predicted samples. Use `zero_division` parameter to control this behavior.\n",
      "  _warn_prf(average, modifier, f\"{metric.capitalize()} is\", len(result))\n"
     ]
    }
   ],
   "source": [
    "y_pred = rf_model.predict(X_test)\n",
    "\n",
    "print(\"Classification Report:\")\n",
    "print(classification_report(y_test, y_pred))\n",
    "\n",
    "\n",
    "accuracy = accuracy_score(y_test, y_pred)\n",
    "print(f\"Model Accuracy: {accuracy:.2f}\")\n"
   ]
  },
  {
   "cell_type": "code",
   "execution_count": 28,
   "id": "8a2c654f-37bf-4fab-8119-d393641dafe2",
   "metadata": {},
   "outputs": [
    {
     "name": "stderr",
     "output_type": "stream",
     "text": [
      "/tmp/ipykernel_3215726/954479038.py:4: FutureWarning: \n",
      "\n",
      "Passing `palette` without assigning `hue` is deprecated and will be removed in v0.14.0. Assign the `y` variable to `hue` and set `legend=False` for the same effect.\n",
      "\n",
      "  sns.barplot(x=importances, y=features, palette=\"viridis\")\n"
     ]
    },
    {
     "data": {
      "image/png": "[encoded data removed]",
      "text/plain": [
       "<Figure size 640x480 with 1 Axes>"
      ]
     },
     "metadata": {},
     "output_type": "display_data"
    }
   ],
   "source": [
    "importances = rf_model.feature_importances_\n",
    "features = X.columns\n",
    "\n",
    "sns.barplot(x=importances, y=features, palette=\"viridis\")\n",
    "plt.title(\"Feature Importance\")\n",
    "plt.xlabel(\"Importance Score\")\n",
    "plt.ylabel(\"Feature\")\n",
    "plt.show()\n"
   ]
  },
  {
   "cell_type": "markdown",
   "id": "0d203bdb-be96-4cfc-8539-a3618c85019a",
   "metadata": {},
   "source": [
    "Summary + Findings"
   ]
  },
  {
   "cell_type": "code",
   "execution_count": 29,
   "id": "8d8e5652-e33d-4f2a-bee6-db3ef5975d7d",
   "metadata": {},
   "outputs": [
    {
     "name": "stdout",
     "output_type": "stream",
     "text": [
      "Outcome Summary by Race:\n",
      "                     Race  Arrests  Total Stops  Arrest Rate  Citations  \\\n",
      "0  asian/pacific islander        7         1478     0.004736        329   \n",
      "1                   black      735        89979     0.008169      22088   \n",
      "2                hispanic      328        65456     0.005011      16750   \n",
      "3                   other        0          364     0.000000         43   \n",
      "4                 unknown        0           49     0.000000         11   \n",
      "5                   white      438        36068     0.012144       8121   \n",
      "\n",
      "   Total Stops (Citations)  Citation Rate  \n",
      "0                     1478       0.222598  \n",
      "1                    89979       0.245480  \n",
      "2                    65456       0.255897  \n",
      "3                      364       0.118132  \n",
      "4                       49       0.224490  \n",
      "5                    36068       0.225158  \n"
     ]
    }
   ],
   "source": [
    "outcome_summary = df.groupby(\"subject_race\").agg({\n",
    "    \"arrest_made\": [\"sum\", \"count\", lambda x: x.sum() / x.count()],\n",
    "    \"citation_issued\": [\"sum\", \"count\", lambda x: x.sum() / x.count()]\n",
    "}).reset_index()\n",
    "\n",
    "outcome_summary.columns = [\"Race\", \"Arrests\", \"Total Stops\", \"Arrest Rate\", \n",
    "                           \"Citations\", \"Total Stops (Citations)\", \"Citation Rate\"]\n",
    "\n",
    "\n",
    "print(\"Outcome Summary by Race:\")\n",
    "print(outcome_summary)\n",
    "\n",
    "\n"
   ]
  },
  {
   "cell_type": "code",
   "execution_count": 30,
   "id": "de367caa-cfcb-467e-9a9d-7065c8aeceac",
   "metadata": {},
   "outputs": [
    {
     "name": "stderr",
     "output_type": "stream",
     "text": [
      "/tmp/ipykernel_3215726/1171190689.py:3: FutureWarning: \n",
      "\n",
      "Passing `palette` without assigning `hue` is deprecated and will be removed in v0.14.0. Assign the `x` variable to `hue` and set `legend=False` for the same effect.\n",
      "\n",
      "  sns.barplot(x=\"Race\", y=\"Arrest Rate\", data=outcome_summary, palette=\"Set3\")\n"
     ]
    },
    {
     "data": {
      "image/png": "[encoded data removed]",
      "text/plain": [
       "<Figure size 1000x600 with 1 Axes>"
      ]
     },
     "metadata": {},
     "output_type": "display_data"
    }
   ],
   "source": [
    "# Visualize arrest rates by race\n",
    "plt.figure(figsize=(10, 6))\n",
    "sns.barplot(x=\"Race\", y=\"Arrest Rate\", data=outcome_summary, palette=\"Set3\")\n",
    "plt.title(\"Arrest Rates by Race\")\n",
    "plt.xlabel(\"Race\")\n",
    "plt.ylabel(\"Arrest Rate\")\n",
    "plt.xticks(rotation=45)\n",
    "plt.show()\n"
   ]
  },
  {
   "cell_type": "code",
   "execution_count": 31,
   "id": "b01f4db4-1a27-4080-88ef-966c64e67e2e",
   "metadata": {},
   "outputs": [
    {
     "name": "stderr",
     "output_type": "stream",
     "text": [
      "/tmp/ipykernel_3215726/3643492359.py:3: FutureWarning: \n",
      "\n",
      "Passing `palette` without assigning `hue` is deprecated and will be removed in v0.14.0. Assign the `x` variable to `hue` and set `legend=False` for the same effect.\n",
      "\n",
      "  sns.barplot(x=\"Race\", y=\"Citation Rate\", data=outcome_summary, palette=\"coolwarm\")\n"
     ]
    },
    {
     "data": {
      "image/png": "[encoded data removed]",
      "text/plain": [
       "<Figure size 1000x600 with 1 Axes>"
      ]
     },
     "metadata": {},
     "output_type": "display_data"
    }
   ],
   "source": [
    "# Visualize citation rates by race\n",
    "plt.figure(figsize=(10, 6))\n",
    "sns.barplot(x=\"Race\", y=\"Citation Rate\", data=outcome_summary, palette=\"coolwarm\")\n",
    "plt.title(\"Citation Rates by Race\")\n",
    "plt.xlabel(\"Race\")\n",
    "plt.ylabel(\"Citation Rate\")\n",
    "plt.xticks(rotation=45)\n",
    "plt.show()\n"
   ]
  },
  {
   "cell_type": "code",
   "execution_count": null,
   "id": "bf33cc70-ea7c-492a-95d8-84d351c4546a",
   "metadata": {},
   "outputs": [],
   "source": []
  }
 ],
 "metadata": {
  "kernelspec": {
   "display_name": "Python 3 (ipykernel)",
   "language": "python",
   "name": "python3"
  },
  "language_info": {
   "codemirror_mode": {
    "name": "ipython",
    "version": 3
   },
   "file_extension": ".py",
   "mimetype": "text/x-python",
   "name": "python",
   "nbconvert_exporter": "python",
   "pygments_lexer": "ipython3",
   "version": "3.12.2"
  }
 },
 "nbformat": 4,
 "nbformat_minor": 5
}
